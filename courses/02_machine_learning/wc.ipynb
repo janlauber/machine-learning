{
 "cells": [
  {
   "cell_type": "code",
   "execution_count": 25,
   "metadata": {},
   "outputs": [],
   "source": [
    "import pyspark"
   ]
  },
  {
   "cell_type": "code",
   "execution_count": 26,
   "metadata": {},
   "outputs": [
    {
     "name": "stderr",
     "output_type": "stream",
     "text": [
      "23/07/04 12:31:09 WARN Utils: Service 'SparkUI' could not bind on port 4040. Attempting port 4041.\n",
      "23/07/04 12:31:09 WARN Utils: Service 'SparkUI' could not bind on port 4041. Attempting port 4042.\n"
     ]
    }
   ],
   "source": [
    "conf = pyspark.SparkConf() \\\n",
    "        .setAppName(\"wordcount\")\n",
    "\n",
    "sc = pyspark.SparkContext(conf=conf)"
   ]
  },
  {
   "cell_type": "code",
   "execution_count": 27,
   "metadata": {},
   "outputs": [],
   "source": [
    "def readData(dataFile):\n",
    "    global sc\n",
    "    dataRDD = sc.textFile(dataFile)\n",
    "    return dataRDD"
   ]
  },
  {
   "cell_type": "code",
   "execution_count": 28,
   "metadata": {},
   "outputs": [],
   "source": [
    "def printRDD(rdd):\n",
    "  for i in rdd.collect():\n",
    "    print(i)  "
   ]
  },
  {
   "cell_type": "code",
   "execution_count": 29,
   "metadata": {},
   "outputs": [],
   "source": [
    "dataRDD = readData(\"./data/text.txt\")"
   ]
  },
  {
   "cell_type": "code",
   "execution_count": 30,
   "metadata": {},
   "outputs": [],
   "source": [
    "dataRDD = dataRDD.flatMap(lambda line: line.split(\" \"))"
   ]
  },
  {
   "cell_type": "code",
   "execution_count": 31,
   "metadata": {},
   "outputs": [
    {
     "name": "stdout",
     "output_type": "stream",
     "text": [
      "this\n",
      "is\n",
      "a\n",
      "random\n",
      "text\n",
      "which\n",
      "i\n",
      "have\n",
      "written\n",
      "now\n",
      "please\n",
      "don't\n",
      "use\n",
      "it\n",
      "anywhere\n",
      "in\n",
      "production\n",
      "and\n",
      "please\n",
      "only\n",
      "tell\n",
      "me\n",
      "that\n",
      "i\n",
      "want\n",
      "that\n",
      "because\n",
      "i\n",
      "do\n",
      "that\n",
      "you\n",
      "know\n",
      "test\n",
      "123\n",
      "123\n",
      "lol\n",
      "lol\n",
      "lool\n"
     ]
    }
   ],
   "source": [
    "printRDD(dataRDD)"
   ]
  },
  {
   "cell_type": "code",
   "execution_count": 32,
   "metadata": {},
   "outputs": [],
   "source": [
    "dataRDD = dataRDD.map(lambda word: (word,1))"
   ]
  },
  {
   "cell_type": "code",
   "execution_count": 33,
   "metadata": {},
   "outputs": [
    {
     "name": "stdout",
     "output_type": "stream",
     "text": [
      "('this', 1)\n",
      "('is', 1)\n",
      "('a', 1)\n",
      "('random', 1)\n",
      "('text', 1)\n",
      "('which', 1)\n",
      "('i', 1)\n",
      "('have', 1)\n",
      "('written', 1)\n",
      "('now', 1)\n",
      "('please', 1)\n",
      "(\"don't\", 1)\n",
      "('use', 1)\n",
      "('it', 1)\n",
      "('anywhere', 1)\n",
      "('in', 1)\n",
      "('production', 1)\n",
      "('and', 1)\n",
      "('please', 1)\n",
      "('only', 1)\n",
      "('tell', 1)\n",
      "('me', 1)\n",
      "('that', 1)\n",
      "('i', 1)\n",
      "('want', 1)\n",
      "('that', 1)\n",
      "('because', 1)\n",
      "('i', 1)\n",
      "('do', 1)\n",
      "('that', 1)\n",
      "('you', 1)\n",
      "('know', 1)\n",
      "('test', 1)\n",
      "('123', 1)\n",
      "('123', 1)\n",
      "('lol', 1)\n",
      "('lol', 1)\n",
      "('lool', 1)\n"
     ]
    }
   ],
   "source": [
    "printRDD(dataRDD)"
   ]
  },
  {
   "cell_type": "code",
   "execution_count": 34,
   "metadata": {},
   "outputs": [],
   "source": [
    "dataRDD = dataRDD.reduceByKey(lambda count1, count2: count1 + count2)"
   ]
  },
  {
   "cell_type": "code",
   "execution_count": 35,
   "metadata": {},
   "outputs": [
    {
     "name": "stdout",
     "output_type": "stream",
     "text": [
      "('this', 1)\n",
      "('is', 1)\n",
      "('i', 3)\n",
      "('have', 1)\n",
      "('now', 1)\n",
      "('use', 1)\n",
      "('anywhere', 1)\n",
      "('in', 1)\n",
      "('production', 1)\n",
      "('only', 1)\n",
      "('tell', 1)\n",
      "('do', 1)\n",
      "('know', 1)\n",
      "('test', 1)\n",
      "('a', 1)\n",
      "('random', 1)\n",
      "('text', 1)\n",
      "('which', 1)\n",
      "('written', 1)\n",
      "('please', 2)\n",
      "(\"don't\", 1)\n",
      "('it', 1)\n",
      "('and', 1)\n",
      "('me', 1)\n",
      "('that', 3)\n",
      "('want', 1)\n",
      "('because', 1)\n",
      "('you', 1)\n",
      "('123', 2)\n",
      "('lol', 2)\n",
      "('lool', 1)\n"
     ]
    }
   ],
   "source": [
    "printRDD(dataRDD)"
   ]
  },
  {
   "cell_type": "code",
   "execution_count": 36,
   "metadata": {},
   "outputs": [],
   "source": [
    "sc.stop()"
   ]
  },
  {
   "cell_type": "code",
   "execution_count": null,
   "metadata": {},
   "outputs": [],
   "source": []
  }
 ],
 "metadata": {
  "kernelspec": {
   "display_name": "Python 3 (ipykernel)",
   "language": "python",
   "name": "python3"
  },
  "language_info": {
   "codemirror_mode": {
    "name": "ipython",
    "version": 3
   },
   "file_extension": ".py",
   "mimetype": "text/x-python",
   "name": "python",
   "nbconvert_exporter": "python",
   "pygments_lexer": "ipython3",
   "version": "3.9.16"
  }
 },
 "nbformat": 4,
 "nbformat_minor": 4
}
